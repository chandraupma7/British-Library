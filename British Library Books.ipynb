{
 "cells": [
  {
   "cell_type": "markdown",
   "id": "547b1cd7",
   "metadata": {},
   "source": [
    "###  1.\tRead the csv in a data_frame. "
   ]
  },
  {
   "cell_type": "code",
   "execution_count": 1,
   "id": "a744e7fb",
   "metadata": {},
   "outputs": [],
   "source": [
    "import pandas as pd\n",
    "import numpy as np\n",
    "import re\n",
    "book=pd.read_csv(\"Book.csv\")"
   ]
  },
  {
   "cell_type": "code",
   "execution_count": 2,
   "id": "6bd83b19",
   "metadata": {
    "scrolled": true
   },
   "outputs": [
    {
     "data": {
      "text/html": [
       "<div>\n",
       "<style scoped>\n",
       "    .dataframe tbody tr th:only-of-type {\n",
       "        vertical-align: middle;\n",
       "    }\n",
       "\n",
       "    .dataframe tbody tr th {\n",
       "        vertical-align: top;\n",
       "    }\n",
       "\n",
       "    .dataframe thead th {\n",
       "        text-align: right;\n",
       "    }\n",
       "</style>\n",
       "<table border=\"1\" class=\"dataframe\">\n",
       "  <thead>\n",
       "    <tr style=\"text-align: right;\">\n",
       "      <th></th>\n",
       "      <th>Identifier</th>\n",
       "      <th>Edition Statement</th>\n",
       "      <th>Place of Publication</th>\n",
       "      <th>Date of Publication</th>\n",
       "      <th>Publisher</th>\n",
       "      <th>Title</th>\n",
       "      <th>Author</th>\n",
       "      <th>Contributors</th>\n",
       "      <th>Corporate Author</th>\n",
       "      <th>Corporate Contributors</th>\n",
       "      <th>Former owner</th>\n",
       "      <th>Engraver</th>\n",
       "      <th>Issuance type</th>\n",
       "      <th>Flickr URL</th>\n",
       "      <th>Shelfmarks</th>\n",
       "    </tr>\n",
       "  </thead>\n",
       "  <tbody>\n",
       "    <tr>\n",
       "      <th>0</th>\n",
       "      <td>206</td>\n",
       "      <td>NaN</td>\n",
       "      <td>London</td>\n",
       "      <td>1879 [1878]</td>\n",
       "      <td>S. Tinsley &amp; Co.</td>\n",
       "      <td>Walter Forbes. [A novel.] By A. A</td>\n",
       "      <td>A. A.</td>\n",
       "      <td>FORBES, Walter.</td>\n",
       "      <td>NaN</td>\n",
       "      <td>NaN</td>\n",
       "      <td>NaN</td>\n",
       "      <td>NaN</td>\n",
       "      <td>monographic</td>\n",
       "      <td>http://www.flickr.com/photos/britishlibrary/ta...</td>\n",
       "      <td>British Library HMNTS 12641.b.30.</td>\n",
       "    </tr>\n",
       "    <tr>\n",
       "      <th>1</th>\n",
       "      <td>216</td>\n",
       "      <td>NaN</td>\n",
       "      <td>London; Virtue &amp; Yorston</td>\n",
       "      <td>1868</td>\n",
       "      <td>Virtue &amp; Co.</td>\n",
       "      <td>All for Greed. [A novel. The dedication signed...</td>\n",
       "      <td>A., A. A.</td>\n",
       "      <td>BLAZE DE BURY, Marie Pauline Rose - Baroness</td>\n",
       "      <td>NaN</td>\n",
       "      <td>NaN</td>\n",
       "      <td>NaN</td>\n",
       "      <td>NaN</td>\n",
       "      <td>monographic</td>\n",
       "      <td>http://www.flickr.com/photos/britishlibrary/ta...</td>\n",
       "      <td>British Library HMNTS 12626.cc.2.</td>\n",
       "    </tr>\n",
       "    <tr>\n",
       "      <th>2</th>\n",
       "      <td>218</td>\n",
       "      <td>NaN</td>\n",
       "      <td>London</td>\n",
       "      <td>1869</td>\n",
       "      <td>Bradbury, Evans &amp; Co.</td>\n",
       "      <td>Love the Avenger. By the author of “All for Gr...</td>\n",
       "      <td>A., A. A.</td>\n",
       "      <td>BLAZE DE BURY, Marie Pauline Rose - Baroness</td>\n",
       "      <td>NaN</td>\n",
       "      <td>NaN</td>\n",
       "      <td>NaN</td>\n",
       "      <td>NaN</td>\n",
       "      <td>monographic</td>\n",
       "      <td>http://www.flickr.com/photos/britishlibrary/ta...</td>\n",
       "      <td>British Library HMNTS 12625.dd.1.</td>\n",
       "    </tr>\n",
       "    <tr>\n",
       "      <th>3</th>\n",
       "      <td>472</td>\n",
       "      <td>NaN</td>\n",
       "      <td>London</td>\n",
       "      <td>1851</td>\n",
       "      <td>James Darling</td>\n",
       "      <td>Welsh Sketches, chiefly ecclesiastical, to the...</td>\n",
       "      <td>A., E. S.</td>\n",
       "      <td>Appleyard, Ernest Silvanus.</td>\n",
       "      <td>NaN</td>\n",
       "      <td>NaN</td>\n",
       "      <td>NaN</td>\n",
       "      <td>NaN</td>\n",
       "      <td>monographic</td>\n",
       "      <td>http://www.flickr.com/photos/britishlibrary/ta...</td>\n",
       "      <td>British Library HMNTS 10369.bbb.15.</td>\n",
       "    </tr>\n",
       "    <tr>\n",
       "      <th>4</th>\n",
       "      <td>480</td>\n",
       "      <td>A new edition, revised, etc.</td>\n",
       "      <td>London</td>\n",
       "      <td>1857</td>\n",
       "      <td>Wertheim &amp; Macintosh</td>\n",
       "      <td>[The World in which I live, and my place in it...</td>\n",
       "      <td>A., E. S.</td>\n",
       "      <td>BROOME, John Henry.</td>\n",
       "      <td>NaN</td>\n",
       "      <td>NaN</td>\n",
       "      <td>NaN</td>\n",
       "      <td>NaN</td>\n",
       "      <td>monographic</td>\n",
       "      <td>http://www.flickr.com/photos/britishlibrary/ta...</td>\n",
       "      <td>British Library HMNTS 9007.d.28.</td>\n",
       "    </tr>\n",
       "  </tbody>\n",
       "</table>\n",
       "</div>"
      ],
      "text/plain": [
       "   Identifier             Edition Statement      Place of Publication  \\\n",
       "0         206                           NaN                    London   \n",
       "1         216                           NaN  London; Virtue & Yorston   \n",
       "2         218                           NaN                    London   \n",
       "3         472                           NaN                    London   \n",
       "4         480  A new edition, revised, etc.                    London   \n",
       "\n",
       "  Date of Publication              Publisher  \\\n",
       "0         1879 [1878]       S. Tinsley & Co.   \n",
       "1                1868           Virtue & Co.   \n",
       "2                1869  Bradbury, Evans & Co.   \n",
       "3                1851          James Darling   \n",
       "4                1857   Wertheim & Macintosh   \n",
       "\n",
       "                                               Title     Author  \\\n",
       "0                  Walter Forbes. [A novel.] By A. A      A. A.   \n",
       "1  All for Greed. [A novel. The dedication signed...  A., A. A.   \n",
       "2  Love the Avenger. By the author of “All for Gr...  A., A. A.   \n",
       "3  Welsh Sketches, chiefly ecclesiastical, to the...  A., E. S.   \n",
       "4  [The World in which I live, and my place in it...  A., E. S.   \n",
       "\n",
       "                                   Contributors  Corporate Author  \\\n",
       "0                               FORBES, Walter.               NaN   \n",
       "1  BLAZE DE BURY, Marie Pauline Rose - Baroness               NaN   \n",
       "2  BLAZE DE BURY, Marie Pauline Rose - Baroness               NaN   \n",
       "3                   Appleyard, Ernest Silvanus.               NaN   \n",
       "4                           BROOME, John Henry.               NaN   \n",
       "\n",
       "   Corporate Contributors Former owner  Engraver Issuance type  \\\n",
       "0                     NaN          NaN       NaN   monographic   \n",
       "1                     NaN          NaN       NaN   monographic   \n",
       "2                     NaN          NaN       NaN   monographic   \n",
       "3                     NaN          NaN       NaN   monographic   \n",
       "4                     NaN          NaN       NaN   monographic   \n",
       "\n",
       "                                          Flickr URL  \\\n",
       "0  http://www.flickr.com/photos/britishlibrary/ta...   \n",
       "1  http://www.flickr.com/photos/britishlibrary/ta...   \n",
       "2  http://www.flickr.com/photos/britishlibrary/ta...   \n",
       "3  http://www.flickr.com/photos/britishlibrary/ta...   \n",
       "4  http://www.flickr.com/photos/britishlibrary/ta...   \n",
       "\n",
       "                            Shelfmarks  \n",
       "0    British Library HMNTS 12641.b.30.  \n",
       "1    British Library HMNTS 12626.cc.2.  \n",
       "2    British Library HMNTS 12625.dd.1.  \n",
       "3  British Library HMNTS 10369.bbb.15.  \n",
       "4     British Library HMNTS 9007.d.28.  "
      ]
     },
     "execution_count": 2,
     "metadata": {},
     "output_type": "execute_result"
    }
   ],
   "source": [
    "book.head()"
   ]
  },
  {
   "cell_type": "markdown",
   "id": "e898add7",
   "metadata": {},
   "source": [
    "### 2.\tRemove the following columns from the data_frame"
   ]
  },
  {
   "cell_type": "code",
   "execution_count": 3,
   "id": "278078b3",
   "metadata": {},
   "outputs": [],
   "source": [
    "remove=['Edition Statement', 'Corporate Author', 'Corporate Contributors', 'Former owner', \n",
    "        'Engraver', 'Contributors', 'Issuance type', 'Shelfmarks']\n",
    "\n",
    "book.drop(remove,axis=1, inplace=True)"
   ]
  },
  {
   "cell_type": "code",
   "execution_count": 4,
   "id": "27337891",
   "metadata": {},
   "outputs": [
    {
     "data": {
      "text/plain": [
       "Index(['Identifier', 'Place of Publication', 'Date of Publication',\n",
       "       'Publisher', 'Title', 'Author', 'Flickr URL'],\n",
       "      dtype='object')"
      ]
     },
     "execution_count": 4,
     "metadata": {},
     "output_type": "execute_result"
    }
   ],
   "source": [
    "book.columns"
   ]
  },
  {
   "cell_type": "code",
   "execution_count": 5,
   "id": "0073b343",
   "metadata": {},
   "outputs": [
    {
     "data": {
      "text/html": [
       "<div>\n",
       "<style scoped>\n",
       "    .dataframe tbody tr th:only-of-type {\n",
       "        vertical-align: middle;\n",
       "    }\n",
       "\n",
       "    .dataframe tbody tr th {\n",
       "        vertical-align: top;\n",
       "    }\n",
       "\n",
       "    .dataframe thead th {\n",
       "        text-align: right;\n",
       "    }\n",
       "</style>\n",
       "<table border=\"1\" class=\"dataframe\">\n",
       "  <thead>\n",
       "    <tr style=\"text-align: right;\">\n",
       "      <th></th>\n",
       "      <th>Identifier</th>\n",
       "      <th>Place of Publication</th>\n",
       "      <th>Date of Publication</th>\n",
       "      <th>Publisher</th>\n",
       "      <th>Title</th>\n",
       "      <th>Author</th>\n",
       "      <th>Flickr URL</th>\n",
       "    </tr>\n",
       "  </thead>\n",
       "  <tbody>\n",
       "    <tr>\n",
       "      <th>0</th>\n",
       "      <td>206</td>\n",
       "      <td>London</td>\n",
       "      <td>1879 [1878]</td>\n",
       "      <td>S. Tinsley &amp; Co.</td>\n",
       "      <td>Walter Forbes. [A novel.] By A. A</td>\n",
       "      <td>A. A.</td>\n",
       "      <td>http://www.flickr.com/photos/britishlibrary/ta...</td>\n",
       "    </tr>\n",
       "    <tr>\n",
       "      <th>1</th>\n",
       "      <td>216</td>\n",
       "      <td>London; Virtue &amp; Yorston</td>\n",
       "      <td>1868</td>\n",
       "      <td>Virtue &amp; Co.</td>\n",
       "      <td>All for Greed. [A novel. The dedication signed...</td>\n",
       "      <td>A., A. A.</td>\n",
       "      <td>http://www.flickr.com/photos/britishlibrary/ta...</td>\n",
       "    </tr>\n",
       "    <tr>\n",
       "      <th>2</th>\n",
       "      <td>218</td>\n",
       "      <td>London</td>\n",
       "      <td>1869</td>\n",
       "      <td>Bradbury, Evans &amp; Co.</td>\n",
       "      <td>Love the Avenger. By the author of “All for Gr...</td>\n",
       "      <td>A., A. A.</td>\n",
       "      <td>http://www.flickr.com/photos/britishlibrary/ta...</td>\n",
       "    </tr>\n",
       "    <tr>\n",
       "      <th>3</th>\n",
       "      <td>472</td>\n",
       "      <td>London</td>\n",
       "      <td>1851</td>\n",
       "      <td>James Darling</td>\n",
       "      <td>Welsh Sketches, chiefly ecclesiastical, to the...</td>\n",
       "      <td>A., E. S.</td>\n",
       "      <td>http://www.flickr.com/photos/britishlibrary/ta...</td>\n",
       "    </tr>\n",
       "    <tr>\n",
       "      <th>4</th>\n",
       "      <td>480</td>\n",
       "      <td>London</td>\n",
       "      <td>1857</td>\n",
       "      <td>Wertheim &amp; Macintosh</td>\n",
       "      <td>[The World in which I live, and my place in it...</td>\n",
       "      <td>A., E. S.</td>\n",
       "      <td>http://www.flickr.com/photos/britishlibrary/ta...</td>\n",
       "    </tr>\n",
       "  </tbody>\n",
       "</table>\n",
       "</div>"
      ],
      "text/plain": [
       "   Identifier      Place of Publication Date of Publication  \\\n",
       "0         206                    London         1879 [1878]   \n",
       "1         216  London; Virtue & Yorston                1868   \n",
       "2         218                    London                1869   \n",
       "3         472                    London                1851   \n",
       "4         480                    London                1857   \n",
       "\n",
       "               Publisher                                              Title  \\\n",
       "0       S. Tinsley & Co.                  Walter Forbes. [A novel.] By A. A   \n",
       "1           Virtue & Co.  All for Greed. [A novel. The dedication signed...   \n",
       "2  Bradbury, Evans & Co.  Love the Avenger. By the author of “All for Gr...   \n",
       "3          James Darling  Welsh Sketches, chiefly ecclesiastical, to the...   \n",
       "4   Wertheim & Macintosh  [The World in which I live, and my place in it...   \n",
       "\n",
       "      Author                                         Flickr URL  \n",
       "0      A. A.  http://www.flickr.com/photos/britishlibrary/ta...  \n",
       "1  A., A. A.  http://www.flickr.com/photos/britishlibrary/ta...  \n",
       "2  A., A. A.  http://www.flickr.com/photos/britishlibrary/ta...  \n",
       "3  A., E. S.  http://www.flickr.com/photos/britishlibrary/ta...  \n",
       "4  A., E. S.  http://www.flickr.com/photos/britishlibrary/ta...  "
      ]
     },
     "execution_count": 5,
     "metadata": {},
     "output_type": "execute_result"
    }
   ],
   "source": [
    "book.head()"
   ]
  },
  {
   "cell_type": "code",
   "execution_count": 6,
   "id": "c077ec48",
   "metadata": {},
   "outputs": [
    {
     "data": {
      "text/plain": [
       "Identifier               int64\n",
       "Place of Publication    object\n",
       "Date of Publication     object\n",
       "Publisher               object\n",
       "Title                   object\n",
       "Author                  object\n",
       "Flickr URL              object\n",
       "dtype: object"
      ]
     },
     "execution_count": 6,
     "metadata": {},
     "output_type": "execute_result"
    }
   ],
   "source": [
    "book.dtypes"
   ]
  },
  {
   "cell_type": "markdown",
   "id": "1e158424",
   "metadata": {},
   "source": [
    "### 3.\tCheck the content of the column- 'Date of Publication’ and define a function to clean the value "
   ]
  },
  {
   "cell_type": "code",
   "execution_count": 7,
   "id": "f0f5d2a6",
   "metadata": {},
   "outputs": [],
   "source": [
    "import re\n",
    "def dop_clean(date):\n",
    "    cleaned_date = re.search(r'\\d{4}', str(date))\n",
    "    if cleaned_date:\n",
    "        return cleaned_date.group()\n",
    "    return None\n",
    "\n",
    "book['Date of Publication'] = book['Date of Publication'].apply(dop_clean)"
   ]
  },
  {
   "cell_type": "code",
   "execution_count": 8,
   "id": "1dcc2b55",
   "metadata": {},
   "outputs": [
    {
     "data": {
      "text/plain": [
       "array(['1879', '1868', '1869', '1851', '1857', '1875', '1872', None,\n",
       "       '1676', '1679', '1802', '1859', '1888', '1839', '1897', '1865',\n",
       "       '1860', '1873', '1866', '1899', '1814', '1820', '1800', '1847',\n",
       "       '1893', '1805', '1837', '1896', '1898', '1892', '1894', '1885',\n",
       "       '1846', '1817', '1816', '1833', '1804', '1777', '1799', '1827',\n",
       "       '1853', '1874', '1790', '1883', '1795', '1877', '1886', '1834',\n",
       "       '1852', '1828', '1876', '1758', '1880', '1823', '1887', '1825',\n",
       "       '1850', '1810', '1889', '1861', '1858', '1878', '1821', '1891',\n",
       "       '1808', '1849', '1724', '1772', '1812', '1835', '1867', '1830',\n",
       "       '1841', '1884', '1863', '1848', '1845', '1807', '1864', '1822',\n",
       "       '1871', '1829', '1824', '1856', '1803', '1818', '1881', '1838',\n",
       "       '1720', '1855', '1747', '1748', '1704', '1762', '1694', '1890',\n",
       "       '1895', '1870', '1809', '1760', '1862', '1844', '1813', '1787',\n",
       "       '1794', '1710', '1785', '1801', '1882', '1840', '1819', '1651',\n",
       "       '1842', '1744', '1728', '1806', '1831', '1779', '1836', '1756',\n",
       "       '1843', '1792', '1854', '1731', '1770', '1734', '1775', '1826',\n",
       "       '1640', '1687', '1778', '1695', '1749', '1782', '1690', '1696',\n",
       "       '1768', '1716', '1774', '1811', '1796', '1798', '1773', '1788',\n",
       "       '1607', '1657', '1635', '1815', '1759', '1683', '1709', '1733',\n",
       "       '1832', '1784', '1625', '1639', '1737', '1718', '1671', '1684',\n",
       "       '1662', '1765', '1705', '1781', '1693', '1701', '1776', '1675',\n",
       "       '1767', '1654', '1780', '1766', '1732', '1786', '1703', '1791',\n",
       "       '1661', '1678', '1751', '1764', '1677', '1739', '1769', '1735',\n",
       "       '1757', '1691', '1717', '1753', '1746', '1685', '1670', '1761',\n",
       "       '1570', '1721', '1540', '1633', '1752', '1699', '1648', '1719',\n",
       "       '1656', '1793', '1673', '1915', '1631', '1725', '1797', '1698',\n",
       "       '1647', '1663', '1692', '1783', '1713', '1689', '1736', '1700',\n",
       "       '1789', '1729', '1743', '1658', '1632', '1602', '1641', '1742',\n",
       "       '1653', '1763', '1686', '1771', '1730', '1707', '1660', '1674',\n",
       "       '1911', '1754', '1738', '1510', '1722', '1740', '1664', '1638',\n",
       "       '1682', '1667', '1900', '1750', '1681', '1755', '1688', '1741',\n",
       "       '1672', '1628', '1680', '1702', '1637', '1592', '1697', '1708'],\n",
       "      dtype=object)"
      ]
     },
     "execution_count": 8,
     "metadata": {},
     "output_type": "execute_result"
    }
   ],
   "source": [
    "book['Date of Publication'].unique()"
   ]
  },
  {
   "cell_type": "markdown",
   "id": "80f83424",
   "metadata": {},
   "source": [
    "### 4.\tCheck the content of the column- ' Author’ and define a function to clean the value. And split the name to first name and last name. "
   ]
  },
  {
   "cell_type": "code",
   "execution_count": 9,
   "id": "d4fc43bd",
   "metadata": {},
   "outputs": [],
   "source": [
    "def author_clean(author):\n",
    "    cleaned_author = re.sub(r'\\[.*\\]', '', str(author)).strip()\n",
    "    author_parts = re.split(r'[;,]', cleaned_author)\n",
    "    \n",
    "    if len(author_parts) >= 2:\n",
    "        first_name = author_parts[1].strip()\n",
    "        last_name = author_parts[0].strip()\n",
    "    else:\n",
    "        first_name = author_parts[0].strip()\n",
    "        last_name = ''\n",
    "    \n",
    "    return pd.Series([first_name, last_name])\n",
    "\n",
    "book[['First Name', 'Last Name']] = book.apply(lambda row: author_clean(row['Author']), axis=1)\n",
    "book.drop(columns=['Author'], inplace=True)"
   ]
  },
  {
   "cell_type": "markdown",
   "id": "127701ca",
   "metadata": {},
   "source": [
    "### 5.\tCheck the content of the column- ‘Title’ and define a function to clean the value "
   ]
  },
  {
   "cell_type": "code",
   "execution_count": 10,
   "id": "89c398a7",
   "metadata": {},
   "outputs": [],
   "source": [
    "def title_clean(title):\n",
    "    cleaned_title = title.split('[')[0].strip()\n",
    "    return cleaned_title\n",
    "\n",
    "book['Title'] = book['Title'].apply(title_clean)"
   ]
  },
  {
   "cell_type": "markdown",
   "id": "0d326a53",
   "metadata": {},
   "source": [
    "### 6.\tCheck the content of the column- ‘Place of Publication’ and define a function to clean the value"
   ]
  },
  {
   "cell_type": "code",
   "execution_count": 11,
   "id": "f0096e15",
   "metadata": {},
   "outputs": [],
   "source": [
    "def pop_clean(place):\n",
    "    # Remove additional details after the semicolon\n",
    "    cleaned_place = place.split(';')[0].strip()\n",
    "    return cleaned_place\n",
    "\n",
    "book['Place of Publication'] = book['Place of Publication'].apply(pop_clean)"
   ]
  },
  {
   "cell_type": "code",
   "execution_count": null,
   "id": "6f16ab93",
   "metadata": {},
   "outputs": [],
   "source": []
  }
 ],
 "metadata": {
  "kernelspec": {
   "display_name": "Python 3 (ipykernel)",
   "language": "python",
   "name": "python3"
  },
  "language_info": {
   "codemirror_mode": {
    "name": "ipython",
    "version": 3
   },
   "file_extension": ".py",
   "mimetype": "text/x-python",
   "name": "python",
   "nbconvert_exporter": "python",
   "pygments_lexer": "ipython3",
   "version": "3.11.3"
  }
 },
 "nbformat": 4,
 "nbformat_minor": 5
}
